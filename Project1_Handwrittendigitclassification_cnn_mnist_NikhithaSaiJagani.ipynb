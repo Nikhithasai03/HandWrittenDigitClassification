{
  "nbformat": 4,
  "nbformat_minor": 0,
  "metadata": {
    "colab": {
      "provenance": []
    },
    "kernelspec": {
      "name": "python3",
      "display_name": "Python 3"
    },
    "language_info": {
      "name": "python"
    }
  },
  "cells": [
    {
      "cell_type": "markdown",
      "source": [
        "## **Hand written Digit Classification with CNN**"
      ],
      "metadata": {
        "id": "CVggyB88amCH"
      }
    },
    {
      "cell_type": "markdown",
      "source": [
        "## Import Libraries and Datasets"
      ],
      "metadata": {
        "id": "VJFMalGgSVzi"
      }
    },
    {
      "cell_type": "code",
      "execution_count": null,
      "metadata": {
        "id": "qjjDx21DJCh2"
      },
      "outputs": [],
      "source": [
        "#Importing the library\n",
        "import tensorflow as tf"
      ]
    },
    {
      "cell_type": "code",
      "source": [
        "#Loading the dataset (here MNIST dataset)\n",
        "(x_train, y_train), (x_test, y_test) = tf.keras.datasets.mnist.load_data()"
      ],
      "metadata": {
        "colab": {
          "base_uri": "https://localhost:8080/"
        },
        "id": "w9n0q4__JNjo",
        "outputId": "0ceaaa57-ce19-4055-eff0-496b5a848f7d"
      },
      "execution_count": null,
      "outputs": [
        {
          "output_type": "stream",
          "name": "stdout",
          "text": [
            "Downloading data from https://storage.googleapis.com/tensorflow/tf-keras-datasets/mnist.npz\n",
            "11490434/11490434 [==============================] - 0s 0us/step\n"
          ]
        }
      ]
    },
    {
      "cell_type": "code",
      "source": [
        "x_train.shape"
      ],
      "metadata": {
        "colab": {
          "base_uri": "https://localhost:8080/"
        },
        "id": "NgoE-CObJosf",
        "outputId": "477ff757-dcfb-4adc-ba8e-eeb0739c0a36"
      },
      "execution_count": null,
      "outputs": [
        {
          "output_type": "execute_result",
          "data": {
            "text/plain": [
              "(60000, 28, 28)"
            ]
          },
          "metadata": {},
          "execution_count": 3
        }
      ]
    },
    {
      "cell_type": "code",
      "source": [
        "import matplotlib.pyplot as plt\n",
        "%matplotlib inline\n",
        "fig, axes = plt.subplots(3, 4, figsize=(10,10))  #(rows, clms, figsize =(size, size))\n",
        "plt.gray()\n",
        "for i, ax in enumerate(axes.flat):\n",
        "  ax.matshow(x_train[i])\n",
        "  ax.axis('off')\n",
        "  ax.set_title('Number {}'.format(y_train[i]))\n",
        "  fig.show()"
      ],
      "metadata": {
        "colab": {
          "base_uri": "https://localhost:8080/",
          "height": 795
        },
        "id": "SQvTb6CCJtBW",
        "outputId": "59f5cfda-8614-46d2-ca99-d7804df36ef8"
      },
      "execution_count": null,
      "outputs": [
        {
          "output_type": "display_data",
          "data": {
            "text/plain": [
              "<Figure size 1000x1000 with 12 Axes>"
            ],
            "image/png": "[encoded data removed]"
          },
          "metadata": {}
        }
      ]
    },
    {
      "cell_type": "markdown",
      "source": [
        "## Preprocessing"
      ],
      "metadata": {
        "id": "8fK0Tw0FSR2_"
      }
    },
    {
      "cell_type": "code",
      "source": [
        "#RESHAPING array to 4-dimension\n",
        "x_train = x_train.reshape(x_train.shape[0], 28, 28, 1)\n",
        "x_test = x_test.reshape(x_test.shape[0], 28, 28, 1)\n",
        "input_shape=(28, 28, 1)"
      ],
      "metadata": {
        "id": "aWAA53GaKQhK"
      },
      "execution_count": null,
      "outputs": []
    },
    {
      "cell_type": "code",
      "source": [
        "#NORMALIZING\n",
        "x_train = x_train.astype('float32')\n",
        "x_test = x_test.astype('float32')\n",
        "x_train /= 255  #8bit color coding so 2^8=256(0 to 255)\n",
        "x_test /= 255\n",
        "print('x_train shape:',x_train.shape)\n",
        "print('Number of image in x_train:',x_train.shape[0])\n",
        "print('Number of image in x_test:',x_test.shape[0])"
      ],
      "metadata": {
        "colab": {
          "base_uri": "https://localhost:8080/"
        },
        "id": "wgppAVNmKl_X",
        "outputId": "891d4230-1acd-4407-adbb-585428b04be6"
      },
      "execution_count": null,
      "outputs": [
        {
          "output_type": "stream",
          "name": "stdout",
          "text": [
            "x_train shape: (60000, 28, 28, 1)\n",
            "Number of image in x_train: 60000\n",
            "Number of image in x_test: 10000\n"
          ]
        }
      ]
    },
    {
      "cell_type": "markdown",
      "source": [
        "## Building the Convolutional Neural Network"
      ],
      "metadata": {
        "id": "NfcQGYbWS3Vj"
      }
    },
    {
      "cell_type": "code",
      "source": [
        "#Using Sequential model\n",
        "from tensorflow.keras.models import Sequential\n",
        "from tensorflow.keras.layers import Dense, Conv2D, Flatten, MaxPooling2D, Dropout"
      ],
      "metadata": {
        "id": "HCzVgZBCLVvU"
      },
      "execution_count": null,
      "outputs": []
    },
    {
      "cell_type": "code",
      "source": [
        "model = Sequential()\n",
        "model.add(Conv2D(28, kernel_size=(3,3), input_shape=input_shape))\n",
        "model.add(MaxPooling2D(pool_size=(2,2)))\n",
        "model.add(Flatten())\n",
        "model.add(Dense(128, activation=tf.nn.relu))\n",
        "model.add(Dropout(0.2))\n",
        "model.add(Dense(10, activation=tf.nn.softmax))"
      ],
      "metadata": {
        "id": "p_knWGhfLsSh"
      },
      "execution_count": null,
      "outputs": []
    },
    {
      "cell_type": "markdown",
      "source": [
        "## Compiling and Training the Model"
      ],
      "metadata": {
        "id": "_aRP9O7PTnt0"
      }
    },
    {
      "cell_type": "code",
      "source": [
        "model.compile(optimizer='adam', loss='sparse_categorical_crossentropy', metrics=['accuracy'])\n",
        "model.fit(x=x_train, y=y_train, epochs=1)"
      ],
      "metadata": {
        "colab": {
          "base_uri": "https://localhost:8080/"
        },
        "id": "eynyFkOVUssp",
        "outputId": "14ff20ee-b078-4ba4-e25f-0381c40c7ab0"
      },
      "execution_count": null,
      "outputs": [
        {
          "output_type": "stream",
          "name": "stdout",
          "text": [
            "1875/1875 [==============================] - 35s 19ms/step - loss: 0.0337 - accuracy: 0.9889\n"
          ]
        },
        {
          "output_type": "execute_result",
          "data": {
            "text/plain": [
              "<keras.callbacks.History at 0x7f8d7c54ac50>"
            ]
          },
          "metadata": {},
          "execution_count": 13
        }
      ]
    },
    {
      "cell_type": "code",
      "source": [
        "model.compile(optimizer='adam', loss='sparse_categorical_crossentropy', metrics=['accuracy'])\n",
        "model.fit(x=x_train, y=y_train, epochs=3)"
      ],
      "metadata": {
        "colab": {
          "base_uri": "https://localhost:8080/"
        },
        "id": "DBd8whOPNK2L",
        "outputId": "4338c90c-32d6-4ad6-fb8d-545dc3c83af4"
      },
      "execution_count": null,
      "outputs": [
        {
          "output_type": "stream",
          "name": "stdout",
          "text": [
            "Epoch 1/3\n",
            "1875/1875 [==============================] - 34s 18ms/step - loss: 0.0288 - accuracy: 0.9905\n",
            "Epoch 2/3\n",
            "1875/1875 [==============================] - 34s 18ms/step - loss: 0.0234 - accuracy: 0.9921\n",
            "Epoch 3/3\n",
            "1875/1875 [==============================] - 34s 18ms/step - loss: 0.0209 - accuracy: 0.9929\n"
          ]
        },
        {
          "output_type": "execute_result",
          "data": {
            "text/plain": [
              "<keras.callbacks.History at 0x7f8d7c735950>"
            ]
          },
          "metadata": {},
          "execution_count": 14
        }
      ]
    },
    {
      "cell_type": "markdown",
      "source": [
        "## Evaluating the Model"
      ],
      "metadata": {
        "id": "41WdqKvPThi-"
      }
    },
    {
      "cell_type": "code",
      "source": [
        "model.evaluate(x_test, y_test)"
      ],
      "metadata": {
        "colab": {
          "base_uri": "https://localhost:8080/"
        },
        "id": "Xyj7F7lFNukz",
        "outputId": "61ca20e4-34c2-4dbc-97e1-3a664449ad58"
      },
      "execution_count": null,
      "outputs": [
        {
          "output_type": "stream",
          "name": "stdout",
          "text": [
            "313/313 [==============================] - 2s 7ms/step - loss: 0.0640 - accuracy: 0.9832\n"
          ]
        },
        {
          "output_type": "execute_result",
          "data": {
            "text/plain": [
              "[0.0639701634645462, 0.9832000136375427]"
            ]
          },
          "metadata": {},
          "execution_count": 15
        }
      ]
    }
  ]
}